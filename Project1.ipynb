{
 "cells": [
  {
   "cell_type": "markdown",
   "metadata": {},
   "source": [
    "<h1>Project Data Mining</h1>\n",
    "<br><h2>Sentiment Analysis on tweets</h2>\n",
    "<br><b>Editors: </b>\n",
    "<br>Aslanidis Theofanis - Athinaios Konstantinos"
   ]
  },
  {
   "cell_type": "markdown",
   "metadata": {},
   "source": [
    "<b>1)</b> Importing all needed packages: <br>\n",
    "<ul>\n",
    "    <li><b>nltk:</b> used for tokenization\n",
    "    <li><b>pandas:</b> data representation\n",
    "    <li><b>WordCloud:</b> data representation\n",
    "<ul>\n"
   ]
  },
  {
   "cell_type": "code",
   "execution_count": 92,
   "metadata": {},
   "outputs": [],
   "source": [
    "import numpy as np\n",
    "import pandas as pd\n",
    "import matplotlib as plt\n",
    "from nltk.tokenize import RegexpTokenizer, word_tokenize, TweetTokenizer\n",
    "from wordcloud import WordCloud\n",
    "\n",
    "#nltk.download('punkt')\n",
    "#nltk.download('stopwords')"
   ]
  },
  {
   "cell_type": "markdown",
   "metadata": {},
   "source": [
    "<b>2)</b> Loading tweeter datasets for training and testing:\n",
    "<ul>\n",
    "    <li><u>Value</u> for negative-positive-neutral\n",
    "    <li><u>Tweet</u> for the text\n",
    "</ul>"
   ]
  },
  {
   "cell_type": "code",
   "execution_count": 93,
   "metadata": {},
   "outputs": [
    {
     "data": {
      "text/html": [
       "<div>\n",
       "<style scoped>\n",
       "    .dataframe tbody tr th:only-of-type {\n",
       "        vertical-align: middle;\n",
       "    }\n",
       "\n",
       "    .dataframe tbody tr th {\n",
       "        vertical-align: top;\n",
       "    }\n",
       "\n",
       "    .dataframe thead th {\n",
       "        text-align: right;\n",
       "    }\n",
       "</style>\n",
       "<table border=\"1\" class=\"dataframe\">\n",
       "  <thead>\n",
       "    <tr style=\"text-align: right;\">\n",
       "      <th></th>\n",
       "      <th>Value</th>\n",
       "      <th>Tweet</th>\n",
       "    </tr>\n",
       "  </thead>\n",
       "  <tbody>\n",
       "    <tr>\n",
       "      <th>0</th>\n",
       "      <td>positive</td>\n",
       "      <td>Gas by my house hit $3.39!!!! I'm going to Cha...</td>\n",
       "    </tr>\n",
       "    <tr>\n",
       "      <th>1</th>\n",
       "      <td>negative</td>\n",
       "      <td>Theo Walcott is still shit, watch Rafa and Joh...</td>\n",
       "    </tr>\n",
       "    <tr>\n",
       "      <th>2</th>\n",
       "      <td>negative</td>\n",
       "      <td>its not that I'm a GSP fan, i just hate Nick D...</td>\n",
       "    </tr>\n",
       "    <tr>\n",
       "      <th>3</th>\n",
       "      <td>negative</td>\n",
       "      <td>Iranian general says Israel's Iron Dome can't ...</td>\n",
       "    </tr>\n",
       "    <tr>\n",
       "      <th>4</th>\n",
       "      <td>neutral</td>\n",
       "      <td>Tehran, Mon Amour: Obama Tried to Establish Ti...</td>\n",
       "    </tr>\n",
       "  </tbody>\n",
       "</table>\n",
       "</div>"
      ],
      "text/plain": [
       "      Value                                              Tweet\n",
       "0  positive  Gas by my house hit $3.39!!!! I'm going to Cha...\n",
       "1  negative  Theo Walcott is still shit, watch Rafa and Joh...\n",
       "2  negative  its not that I'm a GSP fan, i just hate Nick D...\n",
       "3  negative  Iranian general says Israel's Iron Dome can't ...\n",
       "4   neutral  Tehran, Mon Amour: Obama Tried to Establish Ti..."
      ]
     },
     "execution_count": 93,
     "metadata": {},
     "output_type": "execute_result"
    }
   ],
   "source": [
    "train_data = pd.read_csv(\"../twitter_data/train2017.tsv\", names=['Value', 'Tweet'], sep='\\t', usecols = [2, 3])\n",
    "test_data = pd.read_csv(\"../twitter_data/test2017.tsv\", names=['Value', 'Tweet'], sep='\\t', usecols = [2, 3])\n",
    "train_data.head()"
   ]
  },
  {
   "cell_type": "markdown",
   "metadata": {},
   "source": [
    "<h4>Our pipeline:</h4><br>\n",
    "<ol>\n",
    "    <li>Load the raw text.\n",
    "    <li>Split into tokens.\n",
    "    <li>Convert to lowercase.\n",
    "    <li>Filter out tokens that are stop words.\n",
    "    <li>Stemming\n",
    "</ol>\n",
    "<br>    \n",
    "<b>Tokenize tweets and convert all to lowercase</b>\n"
   ]
  },
  {
   "cell_type": "code",
   "execution_count": 124,
   "metadata": {},
   "outputs": [],
   "source": [
    "tweets = []\n",
    "tokenizer = TweetTokenizer()\n",
    "for tweet in train_data.T:\n",
    "    tweets.append(tokenizer.tokenize(train_data.T[tweet][1].lower()))"
   ]
  },
  {
   "cell_type": "markdown",
   "metadata": {},
   "source": [
    "<b>Remove Stop Words</b>"
   ]
  },
  {
   "cell_type": "code",
   "execution_count": 125,
   "metadata": {},
   "outputs": [],
   "source": [
    "# filter out stop words\n",
    "from nltk.corpus import stopwords\n",
    "\n",
    "stop_words = set(stopwords.words('english'))\n",
    "for x in range(0,len(tweets)):\n",
    "    tweets[x] = [token for token in tweets[x] if not token in stop_words]"
   ]
  },
  {
   "cell_type": "markdown",
   "metadata": {},
   "source": [
    "<b>Stemming (Reducing each word to its root).</b>"
   ]
  },
  {
   "cell_type": "code",
   "execution_count": 126,
   "metadata": {},
   "outputs": [],
   "source": [
    "# stemming of words\n",
    "from nltk.stem.porter import PorterStemmer\n",
    "\n",
    "stemmed = []\n",
    "porter = PorterStemmer()\n",
    "for x in range(0,len(tweets)):\n",
    "    stemmed.append([porter.stem(token) for token in tweets[x]])"
   ]
  },
  {
   "cell_type": "code",
   "execution_count": 129,
   "metadata": {},
   "outputs": [
    {
     "name": "stdout",
     "output_type": "stream",
     "text": [
      "['gas', 'house', 'hit', '$', '3.39', '!', '!', '!', \"i'm\", 'going', 'chapel', 'hill', 'sat', '.', ':)'] \n",
      " ['ga', 'hous', 'hit', '$', '3.39', '!', '!', '!', \"i'm\", 'go', 'chapel', 'hill', 'sat', '.', ':)']\n"
     ]
    }
   ],
   "source": [
    "print(tweets[0], \"\\n\", stemmed[0])"
   ]
  },
  {
   "cell_type": "markdown",
   "metadata": {},
   "source": [
    "<h2>Data Analysis</h2>\n",
    "<br><h4>Characteristics:</h4>\n",
    "<ul>\n",
    "    <li><b>Most Frequent</b> words in whole training dataset.\n",
    "    <li><b>Most Frequent Positive, Negative and Neutral </b> words.\n",
    "<ul>"
   ]
  },
  {
   "cell_type": "code",
   "execution_count": 130,
   "metadata": {},
   "outputs": [],
   "source": []
  }
 ],
 "metadata": {
  "kernelspec": {
   "display_name": "Python 3",
   "language": "python",
   "name": "python3"
  },
  "language_info": {
   "codemirror_mode": {
    "name": "ipython",
    "version": 3
   },
   "file_extension": ".py",
   "mimetype": "text/x-python",
   "name": "python",
   "nbconvert_exporter": "python",
   "pygments_lexer": "ipython3",
   "version": "3.7.1"
  }
 },
 "nbformat": 4,
 "nbformat_minor": 2
}
