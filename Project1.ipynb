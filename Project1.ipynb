{
 "cells": [
  {
   "cell_type": "markdown",
   "metadata": {},
   "source": [
    "<center><h1>Project Data Mining</h1><br>\n",
    "<h2>Sentiment Analysis on tweets</h2><br>\n",
    "</center>\n",
    "<b>Editors: </b>\n",
    "<br>Aslanidis Theofanis - Athinaios Konstantinos"
   ]
  },
  {
   "cell_type": "markdown",
   "metadata": {},
   "source": [
    "<h3>Pipeline of our project:</h3><br>\n",
    "<b>Editing Tweets for Data Analysis:</b>\n",
    "<ol>\n",
    "    <li>Load the raw text.\n",
    "    <li>Split into tokens.\n",
    "    <li>Convert to lowercase.\n",
    "    <li>Filter out tokens that are stop words.\n",
    "    <li>Stemming\n",
    "</ol>\n",
    "<br>"
   ]
  },
  {
   "cell_type": "markdown",
   "metadata": {},
   "source": [
    "<b>1)</b> Importing all needed packages: <br>\n",
    "<ul>\n",
    "    <li><b>nltk:</b> used for tokenization\n",
    "    <li><b>pandas:</b> data representation\n",
    "    <li><b>WordCloud:</b> data representation\n",
    "<ul>\n"
   ]
  },
  {
   "cell_type": "code",
   "execution_count": 1,
   "metadata": {},
   "outputs": [],
   "source": [
    "import numpy as np\n",
    "import pandas as pd\n",
    "from pandas import Series, DataFrame \n",
    "import matplotlib.pyplot as plt\n",
    "from nltk.tokenize import RegexpTokenizer, word_tokenize, TweetTokenizer\n",
    "from wordcloud import WordCloud\n",
    "import pickle\n",
    "\n",
    "#nltk.download('punkt')\n",
    "#nltk.download('stopwords')"
   ]
  },
  {
   "cell_type": "markdown",
   "metadata": {},
   "source": [
    "<p><b>2)</b>Dictionary Loading</p>"
   ]
  },
  {
   "cell_type": "code",
   "execution_count": 2,
   "metadata": {},
   "outputs": [],
   "source": [
    "%%capture\n",
    "affin_lexica = pd.read_csv('../lexica/affin/affin.txt', names=('words', 'valence'), index_col=0, sep='\\t|\\n').T.to_dict('list')\n",
    "tweeter_lexica = pd.read_csv('../lexica/emotweet/valence_tweet.txt', names=('words', 'valence'), index_col=0, sep='\\t|\\n').T.to_dict('list')\n",
    "generic_lexica = pd.read_csv('../lexica/generic/generic.txt', names=('words', 'valence'), index_col=0, sep='\\t|\\n').T.to_dict('list')"
   ]
  },
  {
   "cell_type": "markdown",
   "metadata": {},
   "source": [
    "<b>3)</b> Loading tweeter datasets for training and testing:\n",
    "<ul>\n",
    "    <li><u>Value</u> for negative-positive-neutral\n",
    "    <li><u>Tweet</u> for the text\n",
    "</ul>"
   ]
  },
  {
   "cell_type": "code",
   "execution_count": 3,
   "metadata": {},
   "outputs": [
    {
     "data": {
      "text/html": [
       "<div>\n",
       "<style scoped>\n",
       "    .dataframe tbody tr th:only-of-type {\n",
       "        vertical-align: middle;\n",
       "    }\n",
       "\n",
       "    .dataframe tbody tr th {\n",
       "        vertical-align: top;\n",
       "    }\n",
       "\n",
       "    .dataframe thead th {\n",
       "        text-align: right;\n",
       "    }\n",
       "</style>\n",
       "<table border=\"1\" class=\"dataframe\">\n",
       "  <thead>\n",
       "    <tr style=\"text-align: right;\">\n",
       "      <th></th>\n",
       "      <th>Value</th>\n",
       "      <th>Tweet</th>\n",
       "    </tr>\n",
       "  </thead>\n",
       "  <tbody>\n",
       "    <tr>\n",
       "      <th>0</th>\n",
       "      <td>positive</td>\n",
       "      <td>Gas by my house hit $3.39!!!! I'm going to Cha...</td>\n",
       "    </tr>\n",
       "    <tr>\n",
       "      <th>1</th>\n",
       "      <td>negative</td>\n",
       "      <td>Theo Walcott is still shit, watch Rafa and Joh...</td>\n",
       "    </tr>\n",
       "    <tr>\n",
       "      <th>2</th>\n",
       "      <td>negative</td>\n",
       "      <td>its not that I'm a GSP fan, i just hate Nick D...</td>\n",
       "    </tr>\n",
       "    <tr>\n",
       "      <th>3</th>\n",
       "      <td>negative</td>\n",
       "      <td>Iranian general says Israel's Iron Dome can't ...</td>\n",
       "    </tr>\n",
       "    <tr>\n",
       "      <th>4</th>\n",
       "      <td>neutral</td>\n",
       "      <td>Tehran, Mon Amour: Obama Tried to Establish Ti...</td>\n",
       "    </tr>\n",
       "  </tbody>\n",
       "</table>\n",
       "</div>"
      ],
      "text/plain": [
       "      Value                                              Tweet\n",
       "0  positive  Gas by my house hit $3.39!!!! I'm going to Cha...\n",
       "1  negative  Theo Walcott is still shit, watch Rafa and Joh...\n",
       "2  negative  its not that I'm a GSP fan, i just hate Nick D...\n",
       "3  negative  Iranian general says Israel's Iron Dome can't ...\n",
       "4   neutral  Tehran, Mon Amour: Obama Tried to Establish Ti..."
      ]
     },
     "execution_count": 3,
     "metadata": {},
     "output_type": "execute_result"
    }
   ],
   "source": [
    "train_data = pd.read_csv(\"../twitter_data/train2017.tsv\", names=['Value', 'Tweet'], sep='\\t', usecols = [2, 3])\n",
    "test_data = pd.read_csv(\"../twitter_data/test2017.tsv\", names=['Value', 'Tweet'], sep='\\t', usecols = [2, 3])\n",
    "\n",
    "#Train data preview\n",
    "train_data.head()"
   ]
  },
  {
   "cell_type": "markdown",
   "metadata": {},
   "source": [
    "<p><b>4)</b> Tokenize tweets and convert them to lowercase </p>"
   ]
  },
  {
   "cell_type": "code",
   "execution_count": 4,
   "metadata": {},
   "outputs": [],
   "source": [
    "lowercase_tweets = []\n",
    "values = []\n",
    "tokenizer = TweetTokenizer()\n",
    "for tweet in train_data.T:\n",
    "    lowercase_tweets.append(tokenizer.tokenize(train_data.T[tweet][1].lower()))\n",
    "    values.append(train_data.T[tweet][0])"
   ]
  },
  {
   "cell_type": "code",
   "execution_count": 203,
   "metadata": {},
   "outputs": [],
   "source": [
    "test_tweets = []\n",
    "tokenizer = TweetTokenizer()\n",
    "for tweet in test_data.T:\n",
    "    test_tweets.append(tokenizer.tokenize(test_data.T[tweet][1].lower()))"
   ]
  },
  {
   "cell_type": "markdown",
   "metadata": {},
   "source": [
    "<p><b>SAVE</b><br>Run this cell only if you wish to <u>save</u> the tweets with pickle</p>"
   ]
  },
  {
   "cell_type": "code",
   "execution_count": 6,
   "metadata": {},
   "outputs": [],
   "source": [
    "#store tweets using pickle\n",
    "filename = 'lowercase_tweets.sav'\n",
    "pickle.dump(lowercase_tweets, open(filename, 'wb'))"
   ]
  },
  {
   "cell_type": "markdown",
   "metadata": {},
   "source": [
    "<p><b>LOAD</b><br>Run this cell only if you wish to <u>load</u> the tweets</p>"
   ]
  },
  {
   "cell_type": "code",
   "execution_count": 4,
   "metadata": {},
   "outputs": [],
   "source": [
    "#load stored model\n",
    "filename = 'lowercase_tweets.sav'\n",
    "lowercase_tweets = pickle.load(open(filename, 'rb'))"
   ]
  },
  {
   "cell_type": "markdown",
   "metadata": {},
   "source": [
    "<p><b>5)</b> Filter out stop words </p>"
   ]
  },
  {
   "cell_type": "code",
   "execution_count": 161,
   "metadata": {},
   "outputs": [],
   "source": [
    "# filter out stop words\n",
    "from nltk.corpus import stopwords\n",
    "\n",
    "clean_tweets = []\n",
    "stop_words = set(stopwords.words('english'))\n",
    "for x in range(0,len(lowercase_tweets)):\n",
    "    clean_tweets.append([token for token in lowercase_tweets[x] if not token in stop_words and token.isalpha()])"
   ]
  },
  {
   "cell_type": "markdown",
   "metadata": {},
   "source": [
    "<p><b>5)</b> Stemming two vectors.\n",
    "    <ol>\n",
    "        <li>First Stemming the vector with the cleaned for stop words tweets.\n",
    "        <li>Stemming the vector with the lowercased tweets.\n",
    "    </ol>\n",
    "</p>"
   ]
  },
  {
   "cell_type": "code",
   "execution_count": 10,
   "metadata": {},
   "outputs": [],
   "source": [
    "# stemming tweets\n",
    "from nltk.stem.porter import PorterStemmer\n",
    "\n",
    "#tweets without stop words\n",
    "stemmed_clean_tweets = []\n",
    "#full lowercased tweets\n",
    "stemmed_lowercase_tweets = []\n",
    "\n",
    "porter = PorterStemmer()\n",
    "for x in range(0,len(clean_tweets)):\n",
    "    stemmed_clean_tweets.append([porter.stem(token) for token in clean_tweets[x]])\n",
    "    stemmed_lowercase_tweets.append([porter.stem(token) for token in lowercase_tweets[x]])"
   ]
  },
  {
   "cell_type": "markdown",
   "metadata": {},
   "source": [
    "<br><h2><center>Data Analysis</center></h2>\n",
    "<br>\n",
    "<p>Characteristics:\n",
    "    <ul>\n",
    "        <li>Most Frequent in the whole dataset.\n",
    "        <li>Most Frequent <b>Positive</b>.\n",
    "        <li>Most Frequent <b>Negative</b>.\n",
    "        <li>Biggest <b>Ratio</b> Positive/Negative.\n",
    "        <li>Lowest <b>Ratio</b> Positive/Negative.\n",
    "    </ul>\n",
    "</p>"
   ]
  },
  {
   "cell_type": "code",
   "execution_count": 11,
   "metadata": {},
   "outputs": [],
   "source": [
    "from collections import Counter\n",
    "total_counter = Counter()\n",
    "positive_counter = Counter()\n",
    "negative_counter = Counter()\n",
    "neutral_counter = Counter()\n",
    "j=0\n",
    "for i in clean_tweets[0:]: \n",
    "    total_counter.update(i)\n",
    "    if(values[j] == \"positive\"):\n",
    "        positive_counter.update(i)\n",
    "    if(values[j] == \"negative\"):\n",
    "        negative_counter.update(i)\n",
    "    if(values[j] == \"neutral\"):\n",
    "        neutral_counter.update(i)\n",
    "    j+=1\n",
    "dict(total_counter)\n",
    "dict(positive_counter)\n",
    "dict(negative_counter)\n",
    "dict(neutral_counter)\n",
    "\n",
    "data = {'Total': total_counter, 'Positive': positive_counter, 'Negative': negative_counter, 'Neutral': neutral_counter}\n",
    "fp = DataFrame(data, index =total_counter.keys(), columns =['Total','Positive','Negative', 'Neutral'])"
   ]
  },
  {
   "cell_type": "code",
   "execution_count": 12,
   "metadata": {},
   "outputs": [
    {
     "data": {
      "image/png": "[encoded data removed]",
      "text/plain": [
       "<Figure size 864x360 with 1 Axes>"
      ]
     },
     "metadata": {
      "needs_background": "light"
     },
     "output_type": "display_data"
    }
   ],
   "source": [
    "# Create and generate a word cloud image:\n",
    "wc = WordCloud(stopwords=stopwords, background_color=\"white\", max_words=40).generate_from_frequencies(total_counter)\n",
    "\n",
    "plt.figure(figsize=(12,5))\n",
    "# Display the generated image:\n",
    "plt.imshow(wc, interpolation='bilinear')\n",
    "plt.axis(\"off\")\n",
    "plt.show()"
   ]
  },
  {
   "cell_type": "markdown",
   "metadata": {},
   "source": [
    "<h3>Graph showing the exact Frequency of appearance for the Most Frequent Words</h3>"
   ]
  },
  {
   "cell_type": "code",
   "execution_count": 13,
   "metadata": {},
   "outputs": [
    {
     "data": {
      "image/png": "[encoded data removed]",
      "text/plain": [
       "<Figure size 1080x432 with 1 Axes>"
      ]
     },
     "metadata": {
      "needs_background": "light"
     },
     "output_type": "display_data"
    }
   ],
   "source": [
    "# Choose the names of the bars\n",
    "words = list(wc.words_.keys())\n",
    "\n",
    "# Find frequencies\n",
    "freq = []\n",
    "for word in words:\n",
    "    freq.append(total_counter[word])\n",
    "    \n",
    "#np array\n",
    "y_pos = np.arange(len(words[:10]))\n",
    "\n",
    "#size\n",
    "plt.figure(figsize=(15,6))\n",
    "plt.title(\"Most Frequent Used Words\", fontsize=17)\n",
    "\n",
    "# Create bars\n",
    "plt.bar(y_pos, freq[:10], color='turquoise', width=0.9)\n",
    " \n",
    "# Create names on the x-axis\n",
    "plt.xticks(y_pos, words, color='black', fontsize=14)\n",
    "plt.yticks(color='black', fontsize=12)\n",
    "plt.show()"
   ]
  },
  {
   "cell_type": "code",
   "execution_count": 14,
   "metadata": {},
   "outputs": [
    {
     "data": {
      "image/png": "[encoded data removed]",
      "text/plain": [
       "<Figure size 1080x432 with 1 Axes>"
      ]
     },
     "metadata": {
      "needs_background": "light"
     },
     "output_type": "display_data"
    }
   ],
   "source": [
    "#FiveMostFrequent\n",
    "FiveMostFrequent = list(wc.words_.keys())[:5]\n",
    "\n",
    "# Create bars\n",
    "barWidth = 0.8\n",
    "bars1 = []\n",
    "bars2 = []\n",
    "bars3 = []\n",
    "for word in FiveMostFrequent:\n",
    "    bars1.append(negative_counter[word])\n",
    "    bars2.append(neutral_counter[word])\n",
    "    bars3.append(positive_counter[word])\n",
    "    \n",
    "bars4 = bars1 + bars2 + bars3\n",
    " \n",
    "# The X position of bars\n",
    "r1 = [1,5,9,13,17]\n",
    "r2 = [2,6,10,14,18]\n",
    "r3 = [3,7,11,15,19]\n",
    "sep =[4,8,12,16,20]\n",
    "r4 = r1 + r2 + r3 + sep\n",
    "\n",
    "# plot size\n",
    "plt.figure(figsize=(15,6))\n",
    "\n",
    "# Create barplot\n",
    "plt.bar(r1, bars1, width = barWidth, color = (0.7,0.1,0.2,0.9), label='Negative')\n",
    "plt.bar(r2, bars2, width = barWidth, color = (0.3,0.5,0.5,0.5), label='Neutral')\n",
    "plt.bar(r3, bars3, width = barWidth, color = (0.2,1.0,0.1,0.8), label='Positive')\n",
    "plt.bar(sep, [0,0,0,0,0], width = barWidth, color = (0.0,0.0,0.0,0.0))\n",
    "# Note: the barplot could be created easily. See the barplot section for other examples.\n",
    " \n",
    "# Create legend\n",
    "plt.legend()\n",
    "plt.title(\"Most Frequent Words Tweet Sentiment\", fontsize=17) \n",
    "# Text below each barplot with a rotation at 90°\n",
    "plt.xticks([4*r + barWidth*2.5 for r in range(len(FiveMostFrequent))], FiveMostFrequent, fontsize=18)\n",
    " \n",
    "# Adjust the margins\n",
    "plt.subplots_adjust(bottom= 0.2, top = 0.98)\n",
    " \n",
    "# Show graphic\n",
    "plt.show()"
   ]
  },
  {
   "cell_type": "markdown",
   "metadata": {},
   "source": [
    "<h3>Below we have the most Positive words</h3><br>\n",
    "<b>Not only measured by appearances on positive tweets </b>, but the <b>ratio between positive and negative</b> is very high<br>\n",
    "Which means that they appeared exponentially more times in positive tweets rather than negative ones.<br>\n",
    "That way we have a more representative result."
   ]
  },
  {
   "cell_type": "code",
   "execution_count": 15,
   "metadata": {},
   "outputs": [
    {
     "data": {
      "image/png": "[encoded data removed]",
      "text/plain": [
       "<Figure size 1080x432 with 1 Axes>"
      ]
     },
     "metadata": {
      "needs_background": "light"
     },
     "output_type": "display_data"
    }
   ],
   "source": [
    "UsedWords = [word for word in total_counter.keys() if total_counter[word] >= 100]\n",
    "UsedWords.sort(key=lambda word: (positive_counter[word]/negative_counter[word]), reverse=True)\n",
    "HighRatioWords = UsedWords[:5]\n",
    "\n",
    "# Find ratio\n",
    "ratio = []\n",
    "for word in HighRatioWords:\n",
    "    ratio.append(positive_counter[word]/negative_counter[word])\n",
    "#np array\n",
    "y_pos = np.arange(len(HighRatioWords))\n",
    "#size\n",
    "plt.figure(figsize=(15,6))\n",
    "\n",
    "# Create bars\n",
    "plt.bar(y_pos, ratio, color='green', width=0.9)\n",
    " \n",
    "# Create names on the x-axis\n",
    "plt.title('Most Positive Words', fontsize=14)\n",
    "plt.xticks(y_pos, HighRatioWords, color='black', fontsize=14)\n",
    "plt.yticks(color='black', fontsize=12)\n",
    "plt.show()"
   ]
  },
  {
   "cell_type": "markdown",
   "metadata": {},
   "source": [
    "<h2>OBSERVATION !</h2>\n",
    "<h4>As we see, \"tomorrow\" has the most appearances in positive tweets, but the ones that are used purely on positive tweets are \"amazing\", \"happy\", \"excited\" ... </h4>\n"
   ]
  },
  {
   "cell_type": "markdown",
   "metadata": {},
   "source": [
    "<h3>Same way as above now we have the most Negative words</h3><br>\n",
    "<b>Not only measured by appearances on negative tweets </b>, but the <b>ratio between positive and negative</b> is very low<br>\n",
    "Which means that they appeared exponentially more times in negative tweets rather than positive ones.<br>\n",
    "That way we have a more representative result."
   ]
  },
  {
   "cell_type": "code",
   "execution_count": 16,
   "metadata": {},
   "outputs": [
    {
     "data": {
      "image/png": "[encoded data removed]",
      "text/plain": [
       "<Figure size 1080x432 with 1 Axes>"
      ]
     },
     "metadata": {
      "needs_background": "light"
     },
     "output_type": "display_data"
    }
   ],
   "source": [
    "UsedWords = [word for word in total_counter.keys() if total_counter[word] >= 100]\n",
    "UsedWords.sort(key=lambda word: (positive_counter[word]/negative_counter[word]))\n",
    "LowRatioWords = UsedWords[:5]\n",
    "\n",
    "# Find ratio\n",
    "ratio = []\n",
    "for word in LowRatioWords:\n",
    "    ratio.append(positive_counter[word]/negative_counter[word])\n",
    "#np array\n",
    "y_pos = np.arange(len(LowRatioWords))\n",
    "#size\n",
    "plt.figure(figsize=(15,6))\n",
    "\n",
    "# Create bars\n",
    "plt.bar(y_pos, ratio, color='#750c0c', width=0.9)\n",
    " \n",
    "# Create names on the x-axis\n",
    "plt.title('Most Negative Words', fontsize=14)\n",
    "plt.xticks(y_pos, LowRatioWords, color='black', fontsize=14)\n",
    "plt.yticks(color='black', fontsize=12)\n",
    "plt.show()"
   ]
  },
  {
   "cell_type": "markdown",
   "metadata": {},
   "source": [
    "<br>\n",
    "<h1><center>Vectorization</center></h1>\n",
    "<br>\n",
    "<h3>1. Bag Of Words</h3>\n",
    "<p>Create bow and store it with pickle. Using the list with the actual tweets</p>"
   ]
  },
  {
   "cell_type": "markdown",
   "metadata": {},
   "source": [
    "<b>Run this only if you want to do the vectorization</b><br>\n",
    "Carefull you will have to store it later!!!\n"
   ]
  },
  {
   "cell_type": "code",
   "execution_count": 44,
   "metadata": {},
   "outputs": [],
   "source": [
    "from sklearn.feature_extraction.text import CountVectorizer\n",
    "\n",
    "#vectorization\n",
    "bow_vectorizer = CountVectorizer(max_features=1000) \n",
    "bow_xtrain = bow_vectorizer.fit_transform(train_data['Tweet'])  #TWEETS : a list with the actual tweets"
   ]
  },
  {
   "cell_type": "markdown",
   "metadata": {},
   "source": [
    "<b>SAVE</b><br>\n",
    "Run this only if you excecuted the above cell and you want to save the vector"
   ]
  },
  {
   "cell_type": "code",
   "execution_count": 6,
   "metadata": {},
   "outputs": [],
   "source": [
    "#store bow using pickle\n",
    "filename = 'bag_of_words.sav'\n",
    "pickle.dump(bow_xtrain, open(filename, 'wb'))"
   ]
  },
  {
   "cell_type": "markdown",
   "metadata": {},
   "source": [
    "<b>LOAD</b><br>\n",
    "Run this only if you have already stored the bag of words and you wish to load it instead of computing it."
   ]
  },
  {
   "cell_type": "code",
   "execution_count": 127,
   "metadata": {},
   "outputs": [],
   "source": [
    "#load stored model\n",
    "filename = 'bag_of_words.sav'\n",
    "bow_xtrain = pickle.load(open(filename, 'rb'))"
   ]
  },
  {
   "cell_type": "markdown",
   "metadata": {},
   "source": [
    "<br><h3>2. TF-IDF</h3>"
   ]
  },
  {
   "cell_type": "markdown",
   "metadata": {},
   "source": [
    "<b>Run this only if you want to do the vectorization</b><br>\n",
    "Carefull you will have to store it later!!!"
   ]
  },
  {
   "cell_type": "code",
   "execution_count": 90,
   "metadata": {},
   "outputs": [],
   "source": [
    "from sklearn.feature_extraction.text import TfidfVectorizer\n",
    "\n",
    "#vectorization\n",
    "tfidf_vectorizer = TfidfVectorizer(max_features=1000) \n",
    "tfidf = tfidf_vectorizer.fit_transform(train_data['Tweet'])  #TWEETS : a list with the actual tweets"
   ]
  },
  {
   "cell_type": "markdown",
   "metadata": {},
   "source": [
    "<b>SAVE</b><br>\n",
    "Run this only if you excecuted the above cell and you want to save the vector."
   ]
  },
  {
   "cell_type": "code",
   "execution_count": 19,
   "metadata": {},
   "outputs": [],
   "source": [
    "#store bow using pickle\n",
    "filename = 'tf_idf.sav'\n",
    "pickle.dump(tfidf, open(filename, 'wb'))"
   ]
  },
  {
   "cell_type": "markdown",
   "metadata": {},
   "source": [
    "<b>LOAD</b><br>\n",
    "Run this only if you have already stored the bag of words</b> and you wish to load it instead of computing it."
   ]
  },
  {
   "cell_type": "code",
   "execution_count": 128,
   "metadata": {},
   "outputs": [],
   "source": [
    "#load stored model\n",
    "filename = 'tf_idf.sav'\n",
    "tfidf = pickle.load(open(filename, 'rb'))"
   ]
  },
  {
   "cell_type": "markdown",
   "metadata": {},
   "source": [
    "<br><h3>3. Word Embeddings</h3>\n",
    "Using: <br>\n",
    "1. Lower Case tweets<br>\n",
    "2. Tokenized tweets<br>"
   ]
  },
  {
   "cell_type": "code",
   "execution_count": 196,
   "metadata": {},
   "outputs": [],
   "source": [
    "from gensim.models import Word2Vec\n",
    "\n",
    "w2v_features = 300"
   ]
  },
  {
   "cell_type": "code",
   "execution_count": 197,
   "metadata": {},
   "outputs": [],
   "source": [
    "%%capture\n",
    "model_w2v = Word2Vec(\n",
    "            lowercase_tweets,\n",
    "            size=w2v_features, # desired no. of features/independent variables\n",
    "            window=5, # context window size\n",
    "            min_count=3,\n",
    "            sg = 1, # 1 for skip-gram model\n",
    "            hs = 0,\n",
    "            alpha = 0.02,\n",
    "            negative = 10, # for negative sampling\n",
    "            workers = 8,\n",
    "            seed = 34) \n",
    "\n",
    "model_w2v.train(lowercase_tweets, total_examples= len(lowercase_tweets), epochs=40)"
   ]
  },
  {
   "cell_type": "markdown",
   "metadata": {},
   "source": [
    "<b>Why did we give as input the lowercase tweets?</b><br>\n",
    "Well this is the input data that achieved the highest accuracy.<br>\n",
    "To get there we tested a lot of things.<br>\n",
    "<ol>\n",
    "<li>First of all we trained w2v on the raw data, which had some side effects, since the capital words and punctuation gave lot of variation to a single word.\n",
    "<li>Used the cleaned from stop words, but again we could do better. Maybe because we tokenized the tweets with the tweet tokenizer, there is some importance on \"!\", \"...\", \":-)\" etc.\n",
    "<li>And finally the stemmed words, who we thought that would work the best.\n",
    "</ol>\n",
    "<br>So there are thoughts that maybe because of the little data we have, every info available is important.<br>"
   ]
  },
  {
   "cell_type": "markdown",
   "metadata": {},
   "source": [
    "<b>SAVE</b><br>\n",
    "Run this only if you excecuted the above cell and you want to save the vector."
   ]
  },
  {
   "cell_type": "code",
   "execution_count": 46,
   "metadata": {},
   "outputs": [],
   "source": [
    "#store bow using pickle\n",
    "filename = 'word_embed_' + str(w2v_features) + '.sav'\n",
    "pickle.dump(model_w2v, open(filename, 'wb'))"
   ]
  },
  {
   "cell_type": "markdown",
   "metadata": {},
   "source": [
    "<b>LOAD</b><br>\n",
    "Else Run this if you have already stored the word embeddings to load it instead of computing it."
   ]
  },
  {
   "cell_type": "code",
   "execution_count": 200,
   "metadata": {},
   "outputs": [],
   "source": [
    "#load stored model with 300 features\n",
    "filename = 'word_embed_300.sav'\n",
    "model_w2v = pickle.load(open(filename, 'rb'))"
   ]
  },
  {
   "cell_type": "markdown",
   "metadata": {},
   "source": [
    "Now we trained model for epochs and it is ready.<br>\n",
    "Let's play with our trained model and see some results."
   ]
  },
  {
   "cell_type": "code",
   "execution_count": 58,
   "metadata": {},
   "outputs": [
    {
     "name": "stderr",
     "output_type": "stream",
     "text": [
      "/home/fanarosss/Programms/anaconda3/lib/python3.7/site-packages/gensim/matutils.py:737: FutureWarning: Conversion of the second argument of issubdtype from `int` to `np.signedinteger` is deprecated. In future, it will be treated as `np.int64 == np.dtype(int).type`.\n",
      "  if np.issubdtype(vec.dtype, np.int):\n"
     ]
    },
    {
     "data": {
      "text/plain": [
       "[('donald', 0.8907683491706848),\n",
       " ('front-runner', 0.48988473415374756),\n",
       " (\"trump's\", 0.441070020198822),\n",
       " ('jeb', 0.4356135129928589),\n",
       " (\"bush's\", 0.434678852558136),\n",
       " ('presidential', 0.43391573429107666),\n",
       " ('@gop', 0.421142578125),\n",
       " ('@jebbush', 0.411207377910614),\n",
       " ('backward', 0.41021525859832764),\n",
       " ('inevitably', 0.3989199101924896)]"
      ]
     },
     "execution_count": 58,
     "metadata": {},
     "output_type": "execute_result"
    }
   ],
   "source": [
    "model_w2v.wv.most_similar(positive='trump')"
   ]
  },
  {
   "cell_type": "markdown",
   "metadata": {},
   "source": [
    "As we see those are the words that are seen with trump and developed a semantic relationship."
   ]
  },
  {
   "cell_type": "markdown",
   "metadata": {},
   "source": [
    "<h3>TSNE graphs below</h3>\n",
    "Function tsne_plot call for a subset of our model, our whole word2vec is quite dense to visualize it"
   ]
  },
  {
   "cell_type": "code",
   "execution_count": 148,
   "metadata": {},
   "outputs": [],
   "source": [
    "from sklearn.manifold import TSNE\n",
    "\n",
    "def tsne_plot(model, w2v):\n",
    "    \"Creates and TSNE model and plots it\"\n",
    "    labels = []\n",
    "    tokens = []\n",
    "\n",
    "    for word, val in model:\n",
    "        tokens.append(w2v.wv[word])\n",
    "        labels.append(word)\n",
    "    \n",
    "    tsne_model = TSNE(perplexity=40, n_components=2, init='pca', n_iter=2500, random_state=23)\n",
    "    new_values = tsne_model.fit_transform(tokens)\n",
    "\n",
    "    x = []\n",
    "    y = []\n",
    "    for value in new_values:\n",
    "        x.append(value[0])\n",
    "        y.append(value[1])\n",
    "        \n",
    "    plt.figure(figsize=(15,6)) \n",
    "    for i in range(len(x)):\n",
    "        plt.scatter(x[i],y[i])\n",
    "        plt.annotate(labels[i],\n",
    "                     xy=(x[i], y[i]),\n",
    "                     xytext=(5, 2),\n",
    "                     textcoords='offset points',\n",
    "                     ha='right',\n",
    "                     va='bottom')\n",
    "    plt.show()"
   ]
  },
  {
   "cell_type": "code",
   "execution_count": 152,
   "metadata": {},
   "outputs": [
    {
     "name": "stderr",
     "output_type": "stream",
     "text": [
      "/home/fanarosss/Programms/anaconda3/lib/python3.7/site-packages/gensim/matutils.py:737: FutureWarning:\n",
      "\n",
      "Conversion of the second argument of issubdtype from `int` to `np.signedinteger` is deprecated. In future, it will be treated as `np.int64 == np.dtype(int).type`.\n",
      "\n"
     ]
    },
    {
     "data": {
      "image/png": "[encoded data removed]",
      "text/plain": [
       "<Figure size 1080x432 with 1 Axes>"
      ]
     },
     "metadata": {
      "needs_background": "light"
     },
     "output_type": "display_data"
    }
   ],
   "source": [
    "tsne_plot(model_w2v.wv.most_similar(positive='trump'), model_w2v)"
   ]
  },
  {
   "cell_type": "markdown",
   "metadata": {},
   "source": [
    "<br>\n",
    "<center><h1>Classification</h1></center><br>\n",
    "<h2>Using SVΜ classifier</h2><br>"
   ]
  },
  {
   "cell_type": "code",
   "execution_count": 10,
   "metadata": {},
   "outputs": [],
   "source": [
    "from sklearn.model_selection import train_test_split\n",
    "from sklearn.ensemble import BaggingClassifier\n",
    "from sklearn.multiclass import OneVsRestClassifier\n",
    "from sklearn.metrics import classification_report, confusion_matrix, accuracy_score\n",
    "from sklearn.svm import SVC\n",
    "\n",
    "n_estimators=20\n",
    "workers=4"
   ]
  },
  {
   "cell_type": "markdown",
   "metadata": {},
   "source": [
    "<h3>1. Bag Of Words</h3>"
   ]
  },
  {
   "cell_type": "markdown",
   "metadata": {},
   "source": [
    "<h4>Split the train set, and apply SVC:</h4>"
   ]
  },
  {
   "cell_type": "code",
   "execution_count": 27,
   "metadata": {},
   "outputs": [
    {
     "data": {
      "text/plain": [
       "SVC(C=1.0, cache_size=200, class_weight=None, coef0=0.0,\n",
       "  decision_function_shape='ovr', degree=3, gamma='auto_deprecated',\n",
       "  kernel='linear', max_iter=-1, probability=False, random_state=None,\n",
       "  shrinking=True, tol=0.001, verbose=False)"
      ]
     },
     "execution_count": 27,
     "metadata": {},
     "output_type": "execute_result"
    }
   ],
   "source": [
    "%%capture\n",
    "X_train, X_test, Y_train, Y_test = train_test_split(bow_xtrain, train_data['Value'], test_size = 0.20)\n",
    "\n",
    "svclassifier = SVC(kernel='linear')\n",
    "svclassifier.fit(X_train, Y_train)"
   ]
  },
  {
   "cell_type": "markdown",
   "metadata": {},
   "source": [
    "<p><b>Prediction</b></p>"
   ]
  },
  {
   "cell_type": "code",
   "execution_count": 28,
   "metadata": {},
   "outputs": [
    {
     "name": "stdout",
     "output_type": "stream",
     "text": [
      "              precision    recall  f1-score   support\n",
      "\n",
      "    negative       0.53      0.38      0.44       862\n",
      "     neutral       0.62      0.78      0.69      2410\n",
      "    positive       0.74      0.61      0.67      2320\n",
      "\n",
      "   micro avg       0.65      0.65      0.65      5592\n",
      "   macro avg       0.63      0.59      0.60      5592\n",
      "weighted avg       0.65      0.65      0.64      5592\n",
      "\n"
     ]
    },
    {
     "data": {
      "text/plain": [
       "0.6493204577968527"
      ]
     },
     "execution_count": 28,
     "metadata": {},
     "output_type": "execute_result"
    }
   ],
   "source": [
    "Y_pred = svclassifier.predict(X_test) \n",
    "\n",
    "confusion_matrix(Y_test,Y_pred) \n",
    "print(classification_report(Y_test,Y_pred))\n",
    "\n",
    "accuracy_score(Y_test, Y_pred)"
   ]
  },
  {
   "cell_type": "markdown",
   "metadata": {},
   "source": [
    "<h3>2. TFIDF</h3>"
   ]
  },
  {
   "cell_type": "markdown",
   "metadata": {},
   "source": [
    "<h4>Split the train set, and apply SVC:</h4>"
   ]
  },
  {
   "cell_type": "code",
   "execution_count": 31,
   "metadata": {},
   "outputs": [],
   "source": [
    "%%capture\n",
    "X_train, X_test, Y_train, Y_test = train_test_split(tfidf, train_data['Value'], test_size = 0.20) \n",
    "\n",
    "svclassifier = SVC(kernel='linear')\n",
    "svclassifier.fit(X_train, Y_train)"
   ]
  },
  {
   "cell_type": "markdown",
   "metadata": {},
   "source": [
    "<p><b>Prediction</b></p>"
   ]
  },
  {
   "cell_type": "code",
   "execution_count": 32,
   "metadata": {},
   "outputs": [
    {
     "name": "stdout",
     "output_type": "stream",
     "text": [
      "              precision    recall  f1-score   support\n",
      "\n",
      "    negative       0.55      0.33      0.41       874\n",
      "     neutral       0.62      0.80      0.70      2470\n",
      "    positive       0.72      0.61      0.66      2248\n",
      "\n",
      "   micro avg       0.65      0.65      0.65      5592\n",
      "   macro avg       0.63      0.58      0.59      5592\n",
      "weighted avg       0.65      0.65      0.64      5592\n",
      "\n"
     ]
    },
    {
     "data": {
      "text/plain": [
       "0.6469957081545065"
      ]
     },
     "execution_count": 32,
     "metadata": {},
     "output_type": "execute_result"
    }
   ],
   "source": [
    "Y_pred = svclassifier.predict(X_test) \n",
    "\n",
    "confusion_matrix(Y_test,Y_pred) \n",
    "print(classification_report(Y_test,Y_pred))\n",
    "\n",
    "accuracy_score(Y_test, Y_pred)"
   ]
  },
  {
   "cell_type": "markdown",
   "metadata": {},
   "source": [
    "<h3>3. Word Embeddings</h3><br>\n",
    "Since we can't pass the word2key vector directly in svclassifier due to multiple words with multiple features, we need to do the appropriate <u>processing</u>. <br>\n",
    "With that being said, what we are going to do, is to take the <b>mean</b> of every word vector and produce a \"tweet vector\" with the same number of features plus whatever we judge necessary, ex. Valence."
   ]
  },
  {
   "cell_type": "markdown",
   "metadata": {},
   "source": [
    "<h4>Vector Processor: </h4>"
   ]
  },
  {
   "cell_type": "code",
   "execution_count": 218,
   "metadata": {},
   "outputs": [],
   "source": [
    "%%capture\n",
    "extra_features = 6\n",
    "\n",
    "def w2v_mean(model, tweets):\n",
    "    w2v_train = np.zeros((len(tweets),w2v_features+extra_features))\n",
    "    i = 0\n",
    "    for tweet in tweets:\n",
    "        tweet_mean = []\n",
    "        valences= [[],[],[]]\n",
    "        Sx = [0,0,0]\n",
    "        Sxx = [0,0,0]\n",
    "        mean = [0,0,0]\n",
    "        sdeviation = [0,0,0]\n",
    "        n = [1,1,1]\n",
    "        minv = [0,0,0]\n",
    "        maxv = [0,0,0]\n",
    "        for word in tweet:\n",
    "            if word in model.wv.vocab:\n",
    "                tweet_mean.append(model.wv[word])\n",
    "            else:\n",
    "                tweet_mean.append(np.zeros((w2v_features))) \n",
    "            #Affin Lexica\n",
    "            if word in affin_lexica.keys():\n",
    "                valences[0].append(affin_lexica[word][0])\n",
    "                Sx[0] += affin_lexica[word][0]\n",
    "                Sxx[0] += affin_lexica[word][0]**2\n",
    "                n[0] +=1\n",
    "            #Tweeter Lexica\n",
    "            if word in tweeter_lexica.keys():\n",
    "                valences[1].append(tweeter_lexica[word][0])\n",
    "                Sx[1] += tweeter_lexica[word][0]\n",
    "                Sxx[1] += tweeter_lexica[word][0]**2\n",
    "                n[1] +=1\n",
    "            #Generic Lexica\n",
    "            if word in generic_lexica.keys():\n",
    "                valences[2].append(generic_lexica[word][0])\n",
    "                Sx[2] += generic_lexica[word][0]\n",
    "                Sxx[2] += generic_lexica[word][0]**2\n",
    "                n[2] +=1 \n",
    "        if tweet:\n",
    "            #Compute Statistical Features\n",
    "            for lex in range (0,3):\n",
    "                mean[lex] = Sx[lex]/n[lex]\n",
    "                sdeviation[lex] = ((Sxx[lex] - Sx[lex]**2)/n[lex])**(1/2)\n",
    "                \n",
    "            w2v_train[i] = np.append(np.average(np.array(tweet_mean), axis = 0), \n",
    "                                     np.array([mean[0], mean[1], mean[2], \n",
    "                                               sdeviation[0], sdeviation[1], sdeviation[2]]))\n",
    "        else:\n",
    "            w2v_train[i] = np.random.randn((w2v_features+extra_features))\n",
    "        i+=1;\n",
    "\n",
    "    return w2v_train"
   ]
  },
  {
   "cell_type": "markdown",
   "metadata": {},
   "source": [
    "<b>a)  Testing the SVC on word embeddings with 300 features</b><br>"
   ]
  },
  {
   "cell_type": "markdown",
   "metadata": {},
   "source": [
    "<h4>Split the train set, and apply SVC:</h4>"
   ]
  },
  {
   "cell_type": "code",
   "execution_count": 222,
   "metadata": {},
   "outputs": [],
   "source": [
    "%%capture\n",
    "X_train, Y_train = w2v_mean(model_w2v, lowercase_tweets), train_data['Value']\n",
    "\n",
    "X_test = w2v_mean(model_w2v, test_tweets)\n",
    "Y_test = pd.read_csv(\"../twitter_data/SemEval2017_task4_subtaskA_test_english_gold.txt\", sep='\\t', names=['Value'], usecols = [1])\n",
    "\n",
    "svclassifier = SVC(kernel='linear')\n",
    "svclassifier.fit(X_train, Y_train)"
   ]
  },
  {
   "cell_type": "markdown",
   "metadata": {},
   "source": [
    "<h4>Classifier and predictions:</h4>"
   ]
  },
  {
   "cell_type": "code",
   "execution_count": 223,
   "metadata": {},
   "outputs": [
    {
     "name": "stdout",
     "output_type": "stream",
     "text": [
      "              precision    recall  f1-score   support\n",
      "\n",
      "    negative       0.65      0.52      0.58      3972\n",
      "     neutral       0.63      0.66      0.64      5937\n",
      "    positive       0.50      0.63      0.56      2375\n",
      "\n",
      "   micro avg       0.61      0.61      0.61     12284\n",
      "   macro avg       0.59      0.60      0.59     12284\n",
      "weighted avg       0.61      0.61      0.61     12284\n",
      "\n"
     ]
    },
    {
     "data": {
      "text/plain": [
       "0.6052588733311625"
      ]
     },
     "execution_count": 223,
     "metadata": {},
     "output_type": "execute_result"
    }
   ],
   "source": [
    "Y_pred = svclassifier.predict(X_test) \n",
    "\n",
    "confusion_matrix(Y_test,Y_pred)  \n",
    "print(classification_report(Y_test,Y_pred))\n",
    "\n",
    "accuracy_score(Y_test, Y_pred)"
   ]
  },
  {
   "cell_type": "markdown",
   "metadata": {},
   "source": [
    "<b>b) Testing the SVC on word embeddings with lesser features</b><br><br>\n",
    "<b>LOAD</b> embeddings with 100 features"
   ]
  },
  {
   "cell_type": "code",
   "execution_count": 125,
   "metadata": {},
   "outputs": [],
   "source": [
    "#load stored model with 100 features\n",
    "filename = 'word_embed_100.sav'\n",
    "model_w2v = pickle.load(open(filename, 'rb'))"
   ]
  },
  {
   "cell_type": "markdown",
   "metadata": {},
   "source": [
    "<h4>Split the train set, and apply SVC:</h4>"
   ]
  },
  {
   "cell_type": "code",
   "execution_count": 85,
   "metadata": {},
   "outputs": [],
   "source": [
    "%%capture\n",
    "w2v_features = 100\n",
    "\n",
    "X_train, Y_train = w2v_mean(model_w2v, lowercase_tweets), train_data['Value']\n",
    "\n",
    "X_test = w2v_mean(model_w2v, test_tweets)\n",
    "Y_test = pd.read_csv(\"../twitter_data/SemEval2017_task4_subtaskA_test_english_gold.txt\", sep='\\t', names=['Value'], usecols = [1])\n",
    "\n",
    "svclassifier = SVC(kernel='linear')\n",
    "svclassifier.fit(X_train, Y_train)"
   ]
  },
  {
   "cell_type": "markdown",
   "metadata": {},
   "source": [
    "<h4>Classifier and predictions:</h4>"
   ]
  },
  {
   "cell_type": "code",
   "execution_count": 86,
   "metadata": {},
   "outputs": [
    {
     "name": "stdout",
     "output_type": "stream",
     "text": [
      "              precision    recall  f1-score   support\n",
      "\n",
      "    negative       0.50      0.33      0.39       897\n",
      "     neutral       0.61      0.73      0.66      2429\n",
      "    positive       0.68      0.63      0.65      2266\n",
      "\n",
      "   micro avg       0.62      0.62      0.62      5592\n",
      "   macro avg       0.60      0.56      0.57      5592\n",
      "weighted avg       0.62      0.62      0.62      5592\n",
      "\n"
     ]
    },
    {
     "data": {
      "text/plain": [
       "0.6235693848354793"
      ]
     },
     "execution_count": 86,
     "metadata": {},
     "output_type": "execute_result"
    }
   ],
   "source": [
    "Y_pred = svclassifier.predict(X_test) \n",
    "\n",
    "confusion_matrix(Y_test,Y_pred)  \n",
    "print(classification_report(Y_test,Y_pred))\n",
    "\n",
    "accuracy_score(Y_test, Y_pred)"
   ]
  },
  {
   "cell_type": "markdown",
   "metadata": {},
   "source": [
    "The precision with fewer features (100 instead of 300) is obviously worse.<br>\n",
    "<b>-> More features mean larger accuracy</b>"
   ]
  },
  {
   "cell_type": "markdown",
   "metadata": {},
   "source": [
    "<b>c) Word embeddings + SVC <u>observations and conclusions</u>: </b><br><br>\n",
    "As we see, with the word embeddings and SVC classifier, we achieved a percision of around 67-68%.<br>\n",
    "To get to that percision, we tested a lot of things.<br>\n",
    "As we explained earlier, we give as input to the training the tweet_tokenized and lowercased tweets and saw the accuracy to rise 5%.<br>\n",
    "For further more increase, we expanded the feature vector to 300 + 6, where those 6 values are taken by the dictionaries.<br>\n",
    "The best combination of lexicas was using the:<br> \n",
    "<ol>\n",
    "    <li> affin lexica which is the more general,\n",
    "    <li> the tweet lexica, specified on tweet language such as hashtags, emojis and tweet slang,\n",
    "    <li> generic lexica.\n",
    "</ol>\n",
    "With this combination we saw a futher increase of 4-5% overall.<br><br>\n",
    "We tested lot of other things that didn't work such as:<br>\n",
    "<ul>\n",
    "    <li>Using stemmed tweets for training and input to w2v.\n",
    "    <li>Using extra features such as minimum and maximum valences.\n",
    "    <li>K least positive words - K most positive words.\n",
    "    <li><p>Computing the \"derivative\" of the function that was draw by the valence of every word in the tweet. It was a sum which was<br>  -increased when the \"current_valence greater than previous_valence\" and <br>  -decreased when \"current_valence less than previous_valence\".</p>\n",
    "    <li>Applied L2 and L1 normalization.\n",
    "</ul>\n"
   ]
  },
  {
   "cell_type": "markdown",
   "metadata": {},
   "source": [
    "<h3>4. Conclusion for SVC</h3>\n",
    "<br>\n",
    "Below we have a graph showing the scaling between number of features and dictionaries<br>\n"
   ]
  },
  {
   "cell_type": "code",
   "execution_count": 119,
   "metadata": {},
   "outputs": [],
   "source": [
    "import plotly.plotly as ply\n",
    "import plotly.graph_objs as go"
   ]
  },
  {
   "cell_type": "code",
   "execution_count": 124,
   "metadata": {},
   "outputs": [
    {
     "data": {
      "text/html": [
       "<iframe id=\"igraph\" scrolling=\"no\" style=\"border:none;\" seamless=\"seamless\" src=\"https://plot.ly/~Fanarosss/6.embed\" height=\"525px\" width=\"100%\"></iframe>"
      ],
      "text/plain": [
       "<chart_studio.tools.PlotlyDisplay object>"
      ]
     },
     "execution_count": 124,
     "metadata": {},
     "output_type": "execute_result"
    }
   ],
   "source": [
    "#Graph showing the Improvement between the number of features, and the extra lexica features.\n",
    "\n",
    "#w2v 50 features with lexicas 0.6530758226037195\n",
    "#w2v 50 features without lexicas 0.5899499284692418\n",
    "#w2v 100 features with lexicas 0.6638054363376252\n",
    "#w2v 100 features without lexicas 0.6062231759656652\n",
    "#w2v 200 features with lexicas 0.6727467811158798\n",
    "#w2v 200 features without lexicas 0.6237482117310443\n",
    "#w2v 300 features with lexicas 0.6722103004291845\n",
    "#w2v 100 features without lexicas 0.6062231759656652\n",
    "\n",
    "#load w2v scaling plot from my account at plotly\n",
    "x = [50, 100, 200, 300]\n",
    "x_rev = [0.55, 0.60, 0.65, 0.7]\n",
    "\n",
    "# Line 1\n",
    "y1 = [0.653, 0.663, 0.672, 0.672]\n",
    "\n",
    "# Line 2\n",
    "y2 = [0.589, 0.606, 0.623, 0.626]\n",
    "\n",
    "trace1 = go.Scatter(\n",
    "    x=x,\n",
    "    y=y1,\n",
    "    line=dict(color='rgb(205, 12, 24)',\n",
    "             width=4),\n",
    "    mode='lines',\n",
    "    name='With Lexicas',\n",
    ")\n",
    "trace2 = go.Scatter(\n",
    "    x=x,\n",
    "    y=y2,\n",
    "    line=dict(color='rgb(0,176,246)',\n",
    "             width=4),\n",
    "    mode='lines',\n",
    "    name='Without Lexicas',\n",
    ")\n",
    "\n",
    "data = [trace1, trace2]\n",
    "\n",
    "layout = go.Layout(\n",
    "    paper_bgcolor='rgb(255,255,255)',\n",
    "    plot_bgcolor='rgb(229,229,229)',\n",
    "    xaxis=dict(\n",
    "        gridcolor='rgb(255,255,255)',\n",
    "        range=[50,300],\n",
    "        showgrid=True,\n",
    "        showline=False,\n",
    "        showticklabels=True,\n",
    "        tickcolor='rgb(127,127,127)',\n",
    "        ticks='outside',\n",
    "        zeroline=False\n",
    "    ),\n",
    "    yaxis=dict(\n",
    "        gridcolor='rgb(255,255,255)',\n",
    "        showgrid=True,\n",
    "        showline=False,\n",
    "        showticklabels=True,\n",
    "        tickcolor='rgb(127,127,127)',\n",
    "        ticks='outside',\n",
    "        zeroline=False\n",
    "    ),\n",
    ")\n",
    "fig = go.Figure(data=data, layout=layout)\n",
    "#Load chart from my plot.ly account\n",
    "ply.iplot(fig, filename= 'w2v_scaling')\n",
    "\n",
    "#use this when the chart is finalized\n",
    "#from IPython.display import IFrame\n",
    "#IFrame(src='./w2v_scaling.html', width=950, height=600)"
   ]
  },
  {
   "cell_type": "markdown",
   "metadata": {},
   "source": [
    "<h2>Using KNN classifier</h2>"
   ]
  },
  {
   "cell_type": "code",
   "execution_count": 20,
   "metadata": {},
   "outputs": [],
   "source": [
    "from sklearn.neighbors import KNeighborsClassifier"
   ]
  },
  {
   "cell_type": "markdown",
   "metadata": {},
   "source": [
    "<h3>1. Bag of words</h3>"
   ]
  },
  {
   "cell_type": "code",
   "execution_count": 131,
   "metadata": {},
   "outputs": [],
   "source": [
    "%%capture\n",
    "X_train, X_test, Y_train, Y_test = train_test_split(bow_xtrain, train_data['Value'], test_size = 0.20)\n",
    "\n",
    "knnclassifier = KNeighborsClassifier(n_neighbors = 10,\n",
    "                                    algorithm='auto',\n",
    "                                    metric='minkowski',\n",
    "                                    n_jobs=-1)\n",
    "knnclassifier.fit(X_train, Y_train)"
   ]
  },
  {
   "cell_type": "markdown",
   "metadata": {},
   "source": [
    "<p><b>Prediction</b></p>"
   ]
  },
  {
   "cell_type": "code",
   "execution_count": 132,
   "metadata": {},
   "outputs": [
    {
     "name": "stdout",
     "output_type": "stream",
     "text": [
      "              precision    recall  f1-score   support\n",
      "\n",
      "    negative       0.36      0.05      0.09       883\n",
      "     neutral       0.47      0.86      0.61      2427\n",
      "    positive       0.57      0.25      0.35      2282\n",
      "\n",
      "   micro avg       0.49      0.49      0.49      5592\n",
      "   macro avg       0.47      0.39      0.35      5592\n",
      "weighted avg       0.49      0.49      0.42      5592\n",
      "\n"
     ]
    },
    {
     "data": {
      "text/plain": [
       "0.4851573676680973"
      ]
     },
     "execution_count": 132,
     "metadata": {},
     "output_type": "execute_result"
    }
   ],
   "source": [
    "Y_pred = knnclassifier.predict(X_test) \n",
    "\n",
    "confusion_matrix(Y_test,Y_pred)  \n",
    "print(classification_report(Y_test,Y_pred))\n",
    "\n",
    "accuracy_score(Y_test, Y_pred)"
   ]
  },
  {
   "cell_type": "markdown",
   "metadata": {},
   "source": [
    "<h3>2. TF IDF</h3>"
   ]
  },
  {
   "cell_type": "code",
   "execution_count": 135,
   "metadata": {},
   "outputs": [],
   "source": [
    "%%capture\n",
    "X_train, X_test, Y_train, Y_test = train_test_split(tfidf, train_data['Value'], test_size = 0.20)\n",
    "\n",
    "knnclassifier = KNeighborsClassifier(n_neighbors = 10,\n",
    "                                    algorithm='auto',\n",
    "                                    metric='minkowski',\n",
    "                                    n_jobs=-1)\n",
    "knnclassifier.fit(X_train, Y_train)"
   ]
  },
  {
   "cell_type": "markdown",
   "metadata": {},
   "source": [
    "<p><b>Prediction</b></p>"
   ]
  },
  {
   "cell_type": "code",
   "execution_count": 136,
   "metadata": {},
   "outputs": [
    {
     "name": "stdout",
     "output_type": "stream",
     "text": [
      "              precision    recall  f1-score   support\n",
      "\n",
      "    negative       0.50      0.12      0.19       874\n",
      "     neutral       0.51      0.85      0.64      2427\n",
      "    positive       0.67      0.38      0.49      2291\n",
      "\n",
      "   micro avg       0.54      0.54      0.54      5592\n",
      "   macro avg       0.56      0.45      0.44      5592\n",
      "weighted avg       0.57      0.54      0.51      5592\n",
      "\n"
     ]
    },
    {
     "data": {
      "text/plain": [
       "0.5448855507868383"
      ]
     },
     "execution_count": 136,
     "metadata": {},
     "output_type": "execute_result"
    }
   ],
   "source": [
    "Y_pred = knnclassifier.predict(X_test) \n",
    "\n",
    "confusion_matrix(Y_test,Y_pred)  \n",
    "print(classification_report(Y_test,Y_pred))\n",
    "\n",
    "accuracy_score(Y_test, Y_pred)"
   ]
  },
  {
   "cell_type": "markdown",
   "metadata": {},
   "source": [
    "<h3>3. Word Embeddings</h3>"
   ]
  },
  {
   "cell_type": "code",
   "execution_count": 220,
   "metadata": {},
   "outputs": [],
   "source": [
    "%%capture\n",
    "X_train = w2v_mean(model_w2v, lowercase_tweets)\n",
    "Y_train = train_data['Value']\n",
    "\n",
    "X_test = w2v_mean(model_w2v, test_tweets)\n",
    "Y_test = pd.read_csv(\"../twitter_data/SemEval2017_task4_subtaskA_test_english_gold.txt\", sep='\\t', names=['Value'], usecols = [1])\n",
    "\n",
    "knnclassifier = KNeighborsClassifier(n_neighbors = 10,\n",
    "                                    algorithm='auto',\n",
    "                                    metric='minkowski',\n",
    "                                    n_jobs=-1)\n",
    "knnclassifier.fit(X_train, Y_train)"
   ]
  },
  {
   "cell_type": "markdown",
   "metadata": {},
   "source": [
    "<p><b>Prediction</b></p>"
   ]
  },
  {
   "cell_type": "code",
   "execution_count": 221,
   "metadata": {},
   "outputs": [
    {
     "name": "stdout",
     "output_type": "stream",
     "text": [
      "              precision    recall  f1-score   support\n",
      "\n",
      "    negative       0.67      0.44      0.53      3972\n",
      "     neutral       0.60      0.67      0.63      5937\n",
      "    positive       0.45      0.59      0.51      2375\n",
      "\n",
      "   micro avg       0.58      0.58      0.58     12284\n",
      "   macro avg       0.57      0.57      0.56     12284\n",
      "weighted avg       0.60      0.58      0.58     12284\n",
      "\n"
     ]
    },
    {
     "data": {
      "text/plain": [
       "0.579290133507001"
      ]
     },
     "execution_count": 221,
     "metadata": {},
     "output_type": "execute_result"
    }
   ],
   "source": [
    "Y_pred = knnclassifier.predict(X_test) \n",
    "\n",
    "confusion_matrix(Y_test,Y_pred)  \n",
    "print(classification_report(Y_test,Y_pred))\n",
    "\n",
    "accuracy_score(Y_test, Y_pred)"
   ]
  },
  {
   "cell_type": "markdown",
   "metadata": {},
   "source": [
    "<h3>4. Conclusions about KNN:</h3><br>\n",
    "KNNs accuracy is lower than SVC, and that is due to the fact that KNN is a non-parametric and lazy learning algorithm.<br>\n",
    "A very important characteristic about KNN is the cursing of <b>dimensionality.</b><br>\n",
    "The algorithm performs better with lesser features rather than a large amount. In order to have lot of features, you have to have a lot of data (which we do not have).\n",
    "So let's see how KNN performs with a small amount of features at word embeddings.<br>"
   ]
  },
  {
   "cell_type": "code",
   "execution_count": 225,
   "metadata": {},
   "outputs": [
    {
     "name": "stderr",
     "output_type": "stream",
     "text": [
      "/home/fanarosss/Programms/anaconda3/lib/python3.7/site-packages/ipykernel_launcher.py:47: ComplexWarning:\n",
      "\n",
      "Casting complex values to real discards the imaginary part\n",
      "\n"
     ]
    },
    {
     "name": "stdout",
     "output_type": "stream",
     "text": [
      "              precision    recall  f1-score   support\n",
      "\n",
      "    negative       0.65      0.48      0.55      3972\n",
      "     neutral       0.62      0.63      0.62      5937\n",
      "    positive       0.43      0.61      0.51      2375\n",
      "\n",
      "   micro avg       0.58      0.58      0.58     12284\n",
      "   macro avg       0.57      0.57      0.56     12284\n",
      "weighted avg       0.59      0.58      0.58     12284\n",
      "\n"
     ]
    },
    {
     "data": {
      "text/plain": [
       "0.5758710517746662"
      ]
     },
     "execution_count": 225,
     "metadata": {},
     "output_type": "execute_result"
    }
   ],
   "source": [
    "w2v_features = 100\n",
    "\n",
    "#load stored model with 100 features\n",
    "filename = 'word_embed_100.sav'\n",
    "model_w2v = pickle.load(open(filename, 'rb'))\n",
    "\n",
    "X_train, Y_train = w2v_mean(model_w2v, lowercase_tweets), train_data['Value']\n",
    "\n",
    "X_test = w2v_mean(model_w2v, test_tweets)\n",
    "Y_test = pd.read_csv(\"../twitter_data/SemEval2017_task4_subtaskA_test_english_gold.txt\", sep='\\t', names=['Value'], usecols = [1])\n",
    "\n",
    "knnclassifier = KNeighborsClassifier(n_neighbors = 10,\n",
    "                                    algorithm='auto',\n",
    "                                    metric='minkowski',\n",
    "                                    p=2,\n",
    "                                    n_jobs=-1)\n",
    "knnclassifier.fit(X_train, Y_train)\n",
    "\n",
    "Y_pred = knnclassifier.predict(X_test) \n",
    "\n",
    "confusion_matrix(Y_test,Y_pred)  \n",
    "print(classification_report(Y_test,Y_pred))\n",
    "\n",
    "accuracy_score(Y_test, Y_pred)"
   ]
  },
  {
   "cell_type": "markdown",
   "metadata": {},
   "source": [
    "As we can see the accuracy did not grow, but it stayed roughly the same with both 100 and 300 features.<br>\n",
    "Consider that with SVM there was a great difference between those two<br>\n",
    "<b>That means, that maybe above 300 features KNN will start overfitting with the data we have.</b><br>"
   ]
  },
  {
   "cell_type": "markdown",
   "metadata": {},
   "source": [
    "<br><center><h3>Comparing KNN and SVM : </h3></center><br>"
   ]
  },
  {
   "cell_type": "code",
   "execution_count": 147,
   "metadata": {},
   "outputs": [
    {
     "data": {
      "text/html": [
       "<iframe id=\"igraph\" scrolling=\"no\" style=\"border:none;\" seamless=\"seamless\" src=\"https://plot.ly/~Fanarosss/10.embed\" height=\"525px\" width=\"100%\"></iframe>"
      ],
      "text/plain": [
       "<chart_studio.tools.PlotlyDisplay object>"
      ]
     },
     "execution_count": 147,
     "metadata": {},
     "output_type": "execute_result"
    }
   ],
   "source": [
    "x = ['Bow', 'Tf-idf', 'Embeddings']\n",
    "x_rev = [0.45, 0.50, 0.55, 0.60, 0.65, 0.7]\n",
    "\n",
    "# Line 1\n",
    "y1 = [0.48, 0.545, 0.64]\n",
    "\n",
    "# Line 2\n",
    "y2 = [0.60, 0.64, 0.67]\n",
    "\n",
    "trace1 = go.Scatter(\n",
    "    x=x,\n",
    "    y=y1,\n",
    "    name='KNN',\n",
    "    line = dict(\n",
    "        color = ('rgb(205, 12, 24)'),\n",
    "        width = 4)\n",
    ")\n",
    "trace2 = go.Scatter(\n",
    "    x=x,\n",
    "    y=y2,\n",
    "    name='SVC',\n",
    "    line = dict(\n",
    "        color = ('rgb(37, 102, 211)'),\n",
    "        width = 4)\n",
    ")\n",
    "\n",
    "data = [trace1, trace2]\n",
    "\n",
    "# Edit the layout\n",
    "layout = dict(title = 'How Vectorization affects classification',\n",
    "              xaxis = dict(title = 'Vectorization Method'),\n",
    "              yaxis = dict(title = 'Accuracy'),\n",
    "              )\n",
    "\n",
    "fig = go.Figure(data=data, layout=layout)\n",
    "#Load chart from my plot.ly account\n",
    "ply.iplot(fig, filename= 'vectorization_scaling')"
   ]
  },
  {
   "cell_type": "markdown",
   "metadata": {},
   "source": [
    "<br><h3>Extra observations with pretrained embeddings</h3>\n",
    "<br><b>Finally,</b> let's use the pretrained embeddings and see how they do, in comparison with our implementation."
   ]
  },
  {
   "cell_type": "code",
   "execution_count": 227,
   "metadata": {},
   "outputs": [],
   "source": [
    "w2v_features = 300\n",
    "embeddings_dict = {}\n",
    "\n",
    "f = open('datastories.twitter.300d.txt', \"r\", encoding=\"utf-8\")\n",
    "\n",
    "for i, line in enumerate(f):\n",
    "    values = line.split()\n",
    "    word = values[0]\n",
    "    coefs = np.asarray(values[1:], dtype='float32')\n",
    "    embeddings_dict[word] = coefs"
   ]
  },
  {
   "cell_type": "markdown",
   "metadata": {},
   "source": [
    "Special function made to adjust the w2v without lexicas, to see how the pretrained embeddings behave."
   ]
  },
  {
   "cell_type": "code",
   "execution_count": 228,
   "metadata": {},
   "outputs": [],
   "source": [
    "def w2v_avg(model, tweets):\n",
    "    w2v_train = np.zeros((len(tweets),w2v_features+extra_features))\n",
    "    i = 0\n",
    "    for tweet in tweets:\n",
    "        tweet_mean = []\n",
    "        valences= [[],[],[]]\n",
    "        Sx = [0,0,0]\n",
    "        Sxx = [0,0,0]\n",
    "        mean = [0,0,0]\n",
    "        sdeviation = [0,0,0]\n",
    "        n = [1,1,1]\n",
    "        minv = [0,0,0]\n",
    "        maxv = [0,0,0]\n",
    "        for word in tweet:\n",
    "            if word in model:\n",
    "                tweet_mean.append(model[word])\n",
    "            else:\n",
    "                tweet_mean.append(np.zeros((w2v_features))) \n",
    "            #Affin Lexica\n",
    "            if word in affin_lexica.keys():\n",
    "                valences[0].append(affin_lexica[word][0])\n",
    "                Sx[0] += affin_lexica[word][0]\n",
    "                Sxx[0] += affin_lexica[word][0]**2\n",
    "                n[0] +=1\n",
    "            #Tweeter Lexica\n",
    "            if word in tweeter_lexica.keys():\n",
    "                valences[1].append(tweeter_lexica[word][0])\n",
    "                Sx[1] += tweeter_lexica[word][0]\n",
    "                Sxx[1] += tweeter_lexica[word][0]**2\n",
    "                n[1] +=1\n",
    "            #Generic Lexica\n",
    "            if word in generic_lexica.keys():\n",
    "                valences[2].append(generic_lexica[word][0])\n",
    "                Sx[2] += generic_lexica[word][0]\n",
    "                Sxx[2] += generic_lexica[word][0]**2\n",
    "                n[2] +=1 \n",
    "        if tweet:\n",
    "            #Compute Statistical Features\n",
    "            for lex in range (0,3):\n",
    "                mean[lex] = Sx[lex]/n[lex]\n",
    "                sdeviation[lex] = ((Sxx[lex] - Sx[lex]**2)/n[lex])**(1/2)\n",
    "                \n",
    "            w2v_train[i] = np.append(np.mean(np.array(tweet_mean), axis = 0), \n",
    "                                     np.array([mean[0], mean[1], mean[2], \n",
    "                                               sdeviation[0], sdeviation[1], sdeviation[2]]))\n",
    "        else:\n",
    "            w2v_train[i] = np.random.randn((w2v_features+extra_features))\n",
    "        i+=1;\n",
    "\n",
    "    return w2v_train"
   ]
  },
  {
   "cell_type": "markdown",
   "metadata": {},
   "source": [
    "Classsify with <b>SVM</b>:"
   ]
  },
  {
   "cell_type": "code",
   "execution_count": 229,
   "metadata": {},
   "outputs": [],
   "source": [
    "%%capture\n",
    "X_train, Y_train = w2v_avg(embeddings_dict, clean_tweets), train_data['Value']\n",
    "\n",
    "X_test = w2v_avg(embeddings_dict, test_tweets)\n",
    "Y_test = pd.read_csv(\"../twitter_data/SemEval2017_task4_subtaskA_test_english_gold.txt\", sep='\\t', names=['Value'], usecols = [1])\n",
    "\n",
    "svclassifier = SVC(kernel='linear')\n",
    "svclassifier.fit(X_train, Y_train)"
   ]
  },
  {
   "cell_type": "markdown",
   "metadata": {},
   "source": [
    "<b>Predictions:</b>"
   ]
  },
  {
   "cell_type": "code",
   "execution_count": 230,
   "metadata": {},
   "outputs": [
    {
     "name": "stdout",
     "output_type": "stream",
     "text": [
      "              precision    recall  f1-score   support\n",
      "\n",
      "    negative       0.60      0.60      0.60      3972\n",
      "     neutral       0.61      0.70      0.66      5937\n",
      "    positive       0.64      0.40      0.49      2375\n",
      "\n",
      "   micro avg       0.61      0.61      0.61     12284\n",
      "   macro avg       0.62      0.57      0.58     12284\n",
      "weighted avg       0.61      0.61      0.61     12284\n",
      "\n"
     ]
    },
    {
     "data": {
      "text/plain": [
       "0.6115271898404429"
      ]
     },
     "execution_count": 230,
     "metadata": {},
     "output_type": "execute_result"
    }
   ],
   "source": [
    "Y_pred = svclassifier.predict(X_test) \n",
    "\n",
    "confusion_matrix(Y_test,Y_pred)  \n",
    "print(classification_report(Y_test,Y_pred))\n",
    "\n",
    "accuracy_score(Y_test, Y_pred)"
   ]
  },
  {
   "cell_type": "code",
   "execution_count": null,
   "metadata": {},
   "outputs": [],
   "source": []
  }
 ],
 "metadata": {
  "kernelspec": {
   "display_name": "Python 3",
   "language": "python",
   "name": "python3"
  },
  "language_info": {
   "codemirror_mode": {
    "name": "ipython",
    "version": 3
   },
   "file_extension": ".py",
   "mimetype": "text/x-python",
   "name": "python",
   "nbconvert_exporter": "python",
   "pygments_lexer": "ipython3",
   "version": "3.7.1"
  }
 },
 "nbformat": 4,
 "nbformat_minor": 2
}
